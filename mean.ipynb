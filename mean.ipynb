{
  "cells": [
    {
      "cell_type": "code",
      "execution_count": 71,
      "metadata": {
        "id": "0JOtbRg5D5FX"
      },
      "outputs": [],
      "source": [
        "import math"
      ]
    },
    {
      "cell_type": "code",
      "execution_count": 72,
      "metadata": {
        "id": "JvamIXSbD5Fa"
      },
      "outputs": [],
      "source": [
        "arr=[115.3, 195.5, 120.5, 110.2, 90.4, 105.6, 110.9, 116.3, 122.3, 125.4,122.3]"
      ]
    },
    {
      "cell_type": "code",
      "execution_count": 73,
      "metadata": {
        "id": "8x_9Hy9hD5Fa"
      },
      "outputs": [],
      "source": [
        "def mean(arr):\n",
        "    mean=sum(arr)/len(arr)\n",
        "    print(mean)"
      ]
    },
    {
      "cell_type": "code",
      "execution_count": 74,
      "metadata": {
        "colab": {
          "base_uri": "https://localhost:8080/"
        },
        "id": "tE3456kvD5Fb",
        "outputId": "0728f850-35b9-4ba0-9cd4-8d7bc3690e29"
      },
      "outputs": [
        {
          "output_type": "stream",
          "name": "stdout",
          "text": [
            "121.33636363636364\n"
          ]
        }
      ],
      "source": [
        "mean(arr)"
      ]
    },
    {
      "cell_type": "code",
      "execution_count": 75,
      "metadata": {
        "id": "qF9HHLvoD5Fb"
      },
      "outputs": [],
      "source": [
        "def median(arr):\n",
        "    arr.sort()\n",
        "    if len(arr) % 2 == 1:\n",
        "        return arr[len(arr) // 2]\n",
        "    else:\n",
        "        return (arr[len(arr) // 2 - 1] + arr[len(arr) // 2]) / 2\n"
      ]
    },
    {
      "cell_type": "code",
      "execution_count": 76,
      "metadata": {
        "colab": {
          "base_uri": "https://localhost:8080/"
        },
        "id": "WNj_8Nu6D5Fc",
        "outputId": "4d0f7177-f51c-444d-e145-7ab7ec8c0244"
      },
      "outputs": [
        {
          "output_type": "execute_result",
          "data": {
            "text/plain": [
              "116.3"
            ]
          },
          "metadata": {},
          "execution_count": 76
        }
      ],
      "source": [
        "median(arr)"
      ]
    },
    {
      "cell_type": "code",
      "execution_count": 77,
      "metadata": {
        "id": "W1kQQ6PtD5Fc"
      },
      "outputs": [],
      "source": [
        "from collections import Counter\n",
        "def mode(arr):\n",
        "    counts = Counter(arr)\n",
        "    max_count = max(counts.values())\n",
        "    modes = [key for key, value in counts.items() if value == max_count]\n",
        "    return(modes)\n"
      ]
    },
    {
      "cell_type": "code",
      "execution_count": 78,
      "metadata": {
        "colab": {
          "base_uri": "https://localhost:8080/"
        },
        "id": "A9h0WNiAD5Fc",
        "outputId": "3f1835fd-b559-42ee-b98d-3faba70dffad"
      },
      "outputs": [
        {
          "output_type": "stream",
          "name": "stdout",
          "text": [
            "Mode: [122.3]\n"
          ]
        }
      ],
      "source": [
        "result = mode(arr)\n",
        "print(\"Mode:\", result)"
      ]
    },
    {
      "cell_type": "code",
      "execution_count": 79,
      "metadata": {
        "id": "1txAMrZDD5Fc"
      },
      "outputs": [],
      "source": [
        "def sd(arr):\n",
        "    n = len(arr)\n",
        "    mean = sum(arr) / n\n",
        "    squared_diff = sum((x - mean) ** 2 for x in arr)\n",
        "    variance = squared_diff / n\n",
        "    std_deviation = math.sqrt(variance)\n",
        "\n",
        "    return std_deviation"
      ]
    },
    {
      "cell_type": "code",
      "execution_count": 80,
      "metadata": {
        "colab": {
          "base_uri": "https://localhost:8080/"
        },
        "id": "LbwThnhbD5Fd",
        "outputId": "d32779d7-986d-426d-8c7c-e2321cbdc55a"
      },
      "outputs": [
        {
          "output_type": "execute_result",
          "data": {
            "text/plain": [
              "25.260003337193787"
            ]
          },
          "metadata": {},
          "execution_count": 80
        }
      ],
      "source": [
        "sd(arr)"
      ]
    },
    {
      "cell_type": "code",
      "execution_count": 81,
      "metadata": {
        "id": "-sZ1rY_9D5Fd"
      },
      "outputs": [],
      "source": [
        "def normalization(arr):\n",
        "    max_arr=max(arr)\n",
        "    min_arr=min(arr)\n",
        "    normal=[]\n",
        "    for x in arr:\n",
        "        calc=(x-min_arr)/(max_arr-min_arr)\n",
        "        normal.append(calc)\n",
        "    print (normal)"
      ]
    },
    {
      "cell_type": "code",
      "execution_count": 82,
      "metadata": {
        "colab": {
          "base_uri": "https://localhost:8080/"
        },
        "id": "BSxML1fED5Fd",
        "outputId": "8a7998d7-c160-4723-c21d-194d84ebcc4e"
      },
      "outputs": [
        {
          "output_type": "stream",
          "name": "stdout",
          "text": [
            "[0.0, 0.14462416745956222, 0.18839200761179828, 0.1950523311132255, 0.23691722169362506, 0.24643196955280677, 0.2863939105613701, 0.3035204567078972, 0.3035204567078972, 0.3330161750713606, 1.0]\n"
          ]
        }
      ],
      "source": [
        "normalization(arr)"
      ]
    },
    {
      "cell_type": "code",
      "execution_count": 83,
      "metadata": {
        "id": "cOhTehfsD5Fd"
      },
      "outputs": [],
      "source": [
        "def standardization(arr):\n",
        "    length=len(arr)\n",
        "    mean=sum(arr)/length\n",
        "    k=sd(arr)\n",
        "    standard=[]\n",
        "    for x in arr:\n",
        "        calc=(x-mean)/k\n",
        "        standard.append(calc)\n",
        "    print (standard)"
      ]
    },
    {
      "cell_type": "code",
      "execution_count": 84,
      "metadata": {
        "colab": {
          "base_uri": "https://localhost:8080/"
        },
        "id": "mDhXaic0D5Fe",
        "outputId": "339fb002-eac5-40f2-9246-fcd966883059"
      },
      "outputs": [
        {
          "output_type": "stream",
          "name": "stdout",
          "text": [
            "[-1.2247173218228256, -0.6229755169189863, -0.44086944438229775, -0.4131576507354103, -0.23896923352640445, -0.19938095688799395, -0.033110195006669736, 0.03814870294246905, 0.03814870294246905, 0.1608723605215419, 2.9360105528741176]\n"
          ]
        }
      ],
      "source": [
        "standardization(arr)"
      ]
    }
  ],
  "metadata": {
    "kernelspec": {
      "display_name": "Python 3 (ipykernel)",
      "language": "python",
      "name": "python3"
    },
    "language_info": {
      "codemirror_mode": {
        "name": "ipython",
        "version": 3
      },
      "file_extension": ".py",
      "mimetype": "text/x-python",
      "name": "python",
      "nbconvert_exporter": "python",
      "pygments_lexer": "ipython3",
      "version": "3.10.12"
    },
    "colab": {
      "provenance": []
    }
  },
  "nbformat": 4,
  "nbformat_minor": 0
}